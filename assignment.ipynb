{
 "cells": [
  {
   "cell_type": "code",
   "execution_count": 1,
   "id": "e891ce85",
   "metadata": {},
   "outputs": [],
   "source": [
    "import pandas as pd\n",
    "from sklearn.feature_extraction.text import TfidfVectorizer\n",
    "from sklearn.metrics import confusion_matrix, precision_recall_fscore_support\n",
    "import matplotlib.pyplot as plt\n",
    "import seaborn as sns\n",
    "import numpy as np\n",
    "from tensorflow.keras.models import Sequential\n",
    "from tensorflow.keras.layers import Dense, Dropout"
   ]
  },
  {
   "cell_type": "code",
   "execution_count": 2,
   "id": "424f70fa",
   "metadata": {},
   "outputs": [],
   "source": [
    "# File paths for the reviews\n",
    "pos_file = \"C:\\\\Users\\\\Krishna Sharma\\\\Downloads\\\\2model\\\\2model\\\\neural\\\\rt-polaritydata\\\\rt-polaritydata\\\\rt-polarity.pos\"\n",
    "\n",
    "neg_file = \"C:\\\\Users\\\\Krishna Sharma\\\\Downloads\\\\2model\\\\2model\\\\neural\\\\rt-polaritydata\\\\rt-polaritydata\\\\rt-polarity.neg\"\n",
    "\n",
    "# Load the reviews into lists\n",
    "with open(neg_file, 'r', encoding='latin-1') as neg_f:\n",
    "    neg_reviews = neg_f.readlines()\n",
    "\n",
    "with open(pos_file, 'r', encoding='latin-1') as pos_f:\n",
    "    pos_reviews = pos_f.readlines()"
   ]
  },
  {
   "cell_type": "code",
   "execution_count": 3,
   "id": "c7fbf003",
   "metadata": {},
   "outputs": [
    {
     "name": "stderr",
     "output_type": "stream",
     "text": [
      "c:\\Python312\\Lib\\site-packages\\keras\\src\\layers\\core\\dense.py:87: UserWarning: Do not pass an `input_shape`/`input_dim` argument to a layer. When using Sequential models, prefer using an `Input(shape)` object as the first layer in the model instead.\n",
      "  super().__init__(activity_regularizer=activity_regularizer, **kwargs)\n"
     ]
    },
    {
     "name": "stdout",
     "output_type": "stream",
     "text": [
      "Epoch 1/10\n",
      "\u001b[1m250/250\u001b[0m \u001b[32m━━━━━━━━━━━━━━━━━━━━\u001b[0m\u001b[37m\u001b[0m \u001b[1m2s\u001b[0m 5ms/step - accuracy: 0.5936 - loss: 0.6589 - val_accuracy: 0.7660 - val_loss: 0.4977\n",
      "Epoch 2/10\n",
      "\u001b[1m250/250\u001b[0m \u001b[32m━━━━━━━━━━━━━━━━━━━━\u001b[0m\u001b[37m\u001b[0m \u001b[1m1s\u001b[0m 4ms/step - accuracy: 0.8508 - loss: 0.3546 - val_accuracy: 0.7570 - val_loss: 0.4893\n",
      "Epoch 3/10\n",
      "\u001b[1m250/250\u001b[0m \u001b[32m━━━━━━━━━━━━━━━━━━━━\u001b[0m\u001b[37m\u001b[0m \u001b[1m1s\u001b[0m 4ms/step - accuracy: 0.9252 - loss: 0.2166 - val_accuracy: 0.7560 - val_loss: 0.5730\n",
      "Epoch 4/10\n",
      "\u001b[1m250/250\u001b[0m \u001b[32m━━━━━━━━━━━━━━━━━━━━\u001b[0m\u001b[37m\u001b[0m \u001b[1m1s\u001b[0m 4ms/step - accuracy: 0.9640 - loss: 0.1164 - val_accuracy: 0.7550 - val_loss: 0.7011\n",
      "Epoch 5/10\n",
      "\u001b[1m250/250\u001b[0m \u001b[32m━━━━━━━━━━━━━━━━━━━━\u001b[0m\u001b[37m\u001b[0m \u001b[1m1s\u001b[0m 4ms/step - accuracy: 0.9885 - loss: 0.0503 - val_accuracy: 0.7530 - val_loss: 0.8556\n",
      "Epoch 6/10\n",
      "\u001b[1m250/250\u001b[0m \u001b[32m━━━━━━━━━━━━━━━━━━━━\u001b[0m\u001b[37m\u001b[0m \u001b[1m1s\u001b[0m 3ms/step - accuracy: 0.9951 - loss: 0.0245 - val_accuracy: 0.7540 - val_loss: 1.0308\n",
      "Epoch 7/10\n",
      "\u001b[1m250/250\u001b[0m \u001b[32m━━━━━━━━━━━━━━━━━━━━\u001b[0m\u001b[37m\u001b[0m \u001b[1m1s\u001b[0m 3ms/step - accuracy: 0.9983 - loss: 0.0099 - val_accuracy: 0.7510 - val_loss: 1.1778\n",
      "Epoch 8/10\n",
      "\u001b[1m250/250\u001b[0m \u001b[32m━━━━━━━━━━━━━━━━━━━━\u001b[0m\u001b[37m\u001b[0m \u001b[1m1s\u001b[0m 4ms/step - accuracy: 0.9996 - loss: 0.0051 - val_accuracy: 0.7490 - val_loss: 1.2971\n",
      "Epoch 9/10\n",
      "\u001b[1m250/250\u001b[0m \u001b[32m━━━━━━━━━━━━━━━━━━━━\u001b[0m\u001b[37m\u001b[0m \u001b[1m1s\u001b[0m 3ms/step - accuracy: 0.9990 - loss: 0.0042 - val_accuracy: 0.7480 - val_loss: 1.3896\n",
      "Epoch 10/10\n",
      "\u001b[1m250/250\u001b[0m \u001b[32m━━━━━━━━━━━━━━━━━━━━\u001b[0m\u001b[37m\u001b[0m \u001b[1m1s\u001b[0m 3ms/step - accuracy: 0.9994 - loss: 0.0033 - val_accuracy: 0.7440 - val_loss: 1.4784\n",
      "\u001b[1m52/52\u001b[0m \u001b[32m━━━━━━━━━━━━━━━━━━━━\u001b[0m\u001b[37m\u001b[0m \u001b[1m0s\u001b[0m 2ms/step\n",
      "\n",
      "Final Performance Metrics:\n",
      "True Positives (TP): 577\n",
      "True Negatives (TN): 642\n",
      "False Positives (FP): 189\n",
      "False Negatives (FN): 254\n",
      "Precision: 75.326%\n",
      "Recall: 69.434%\n",
      "F1-score: 72.260%\n"
     ]
    },
    {
     "data": {
      "image/png": "[encoded data removed]",
      "text/plain": [
       "<Figure size 800x600 with 2 Axes>"
      ]
     },
     "metadata": {},
     "output_type": "display_data"
    },
    {
     "data": {
      "text/plain": [
       "<Figure size 640x480 with 0 Axes>"
      ]
     },
     "metadata": {},
     "output_type": "display_data"
    }
   ],
   "source": [
    "\n",
    "# Create DataFrames for both positive and negative reviews\n",
    "neg_df = pd.DataFrame(neg_reviews, columns=['Review'])\n",
    "neg_df['class'] = 0  # Label negative reviews as class 0\n",
    "pos_df = pd.DataFrame(pos_reviews, columns=['Review'])\n",
    "pos_df['class'] = 1  # Label positive reviews as class 1\n",
    "\n",
    "# Combine and split the data into train, validation, and test sets\n",
    "train_data = pd.concat([neg_df.iloc[:4000], pos_df.iloc[:4000]])\n",
    "val_data = pd.concat([neg_df.iloc[4000:4500], pos_df.iloc[4000:4500]])\n",
    "test_data = pd.concat([neg_df.iloc[4500:], pos_df.iloc[4500:]])\n",
    "\n",
    "X_train, y_train = train_data['Review'], train_data['class']\n",
    "X_val, y_val = val_data['Review'], val_data['class']\n",
    "X_test, y_test = test_data['Review'], test_data['class']\n",
    "\n",
    "# Apply TF-IDF Vectorization to transform text data\n",
    "tfidf = TfidfVectorizer(max_features=5000)\n",
    "X_train = tfidf.fit_transform(X_train).toarray()\n",
    "X_val = tfidf.transform(X_val).toarray()\n",
    "X_test = tfidf.transform(X_test).toarray()\n",
    "\n",
    "# Build a simple neural network model\n",
    "model = Sequential([\n",
    "    Dense(128, input_dim=X_train.shape[1], activation='relu'),\n",
    "    Dropout(0.3),\n",
    "    Dense(64, activation='relu'),\n",
    "    Dropout(0.3),\n",
    "    Dense(1, activation='sigmoid')\n",
    "])\n",
    "\n",
    "# Compile the model with appropriate loss and optimizer\n",
    "model.compile(optimizer='adam', loss='binary_crossentropy', metrics=['accuracy'])\n",
    "\n",
    "# Train the model on the training data with validation data\n",
    "model.fit(X_train, y_train, epochs=10, batch_size=32, validation_data=(X_val, y_val))\n",
    "\n",
    "# Make predictions on the test data\n",
    "y_pred_probs = model.predict(X_test)\n",
    "y_pred = (y_pred_probs > 0.5).astype(int).flatten()\n",
    "\n",
    "# Calculate confusion matrix and classification metrics\n",
    "tn, fp, fn, tp = confusion_matrix(y_test, y_pred).ravel()\n",
    "precision, recall, f1, _ = precision_recall_fscore_support(y_test, y_pred, average='binary')\n",
    "\n",
    "# Print performance metrics\n",
    "print(\"\\nFinal Performance Metrics:\")\n",
    "print(f\"True Positives (TP): {tp}\")\n",
    "print(f\"True Negatives (TN): {tn}\")\n",
    "print(f\"False Positives (FP): {fp}\")\n",
    "print(f\"False Negatives (FN): {fn}\")\n",
    "print(f\"Precision: {precision * 100:.3f}%\")\n",
    "print(f\"Recall: {recall * 100:.3f}%\")\n",
    "print(f\"F1-score: {f1 * 100:.3f}%\")\n",
    "\n",
    "# Plot the confusion matrix as a heatmap\n",
    "conf_matrix = confusion_matrix(y_test, y_pred)\n",
    "plt.figure(figsize=(8, 6))\n",
    "sns.heatmap(conf_matrix, annot=True, fmt='d', cmap='Blues', \n",
    "            xticklabels=['Negative', 'Positive'], yticklabels=['Negative', 'Positive'])\n",
    "plt.ylabel('Actual')\n",
    "plt.xlabel('Predicted')\n",
    "plt.title('Confusion Matrix Heatmap')\n",
    "plt.show()\n",
    "\n",
    "# Save the confusion matrix heatmap as a high-resolution image\n",
    "plt.savefig('confusion_matrix_heatmap.png', bbox_inches='tight', dpi=300)\n"
   ]
  }
 ],
 "metadata": {
  "kernelspec": {
   "display_name": "Python 3 (ipykernel)",
   "language": "python",
   "name": "python3"
  },
  "language_info": {
   "codemirror_mode": {
    "name": "ipython",
    "version": 3
   },
   "file_extension": ".py",
   "mimetype": "text/x-python",
   "name": "python",
   "nbconvert_exporter": "python",
   "pygments_lexer": "ipython3",
   "version": "3.12.2"
  }
 },
 "nbformat": 4,
 "nbformat_minor": 5
}
